{
 "cells": [
  {
   "attachments": {},
   "cell_type": "markdown",
   "metadata": {},
   "source": [
    "### Ploting Normal PDF"
   ]
  },
  {
   "cell_type": "code",
   "execution_count": 7,
   "metadata": {},
   "outputs": [
    {
     "name": "stdout",
     "output_type": "stream",
     "text": [
      "2000\n"
     ]
    },
    {
     "data": {
      "image/png": "[encoded data removed]",
      "text/plain": [
       "<Figure size 432x288 with 1 Axes>"
      ]
     },
     "metadata": {
      "needs_background": "light"
     },
     "output_type": "display_data"
    }
   ],
   "source": [
    "import numpy as np\n",
    "import matplotlib.pyplot as plt\n",
    "from scipy.stats import norm\n",
    "import statistics\n",
    "\n",
    "# Plot between -10 and 10 with .001 steps.\n",
    "ts = 2\n",
    "x_axis = np.arange(0, ts, 0.001)\n",
    "\n",
    "# Calculating mean and standard deviation\n",
    "mean = statistics.mean(x_axis)\n",
    "# print(mean)\n",
    "\n",
    "# sd = statistics.stdev(x_axis)\n",
    "sd = ts/6.5\n",
    "\n",
    "tt = norm.pdf(x_axis, mean, sd) * x_axis\n",
    "print(len(tt))\n",
    "plt.plot(x_axis, norm.pdf(x_axis, mean, sd))\n",
    "plt.show()"
   ]
  },
  {
   "attachments": {},
   "cell_type": "markdown",
   "metadata": {},
   "source": [
    "### Testing the Scipy Integrate Function"
   ]
  },
  {
   "cell_type": "code",
   "execution_count": 8,
   "metadata": {},
   "outputs": [
    {
     "data": {
      "text/plain": [
       "(0.998845932501836, 1.9129275190244398e-14)"
      ]
     },
     "execution_count": 8,
     "metadata": {},
     "output_type": "execute_result"
    }
   ],
   "source": [
    "import scipy.integrate as integrate\n",
    "# result = integrate.quad(lambda x: norm.pdf(x, mean, sd), 0, 2)\n",
    "result = integrate.quad(lambda x: ((1/(sd * np.sqrt(2 * np.pi))) * np.exp(-(x - mean)**2 / (2*sd**2))), 0, 2)\n",
    "result"
   ]
  },
  {
   "attachments": {},
   "cell_type": "markdown",
   "metadata": {},
   "source": [
    "### My Custom Integration Function (Very Slow)"
   ]
  },
  {
   "cell_type": "code",
   "execution_count": 9,
   "metadata": {},
   "outputs": [],
   "source": [
    "# dx = ts / 1e6\n",
    "# print(dx)\n",
    "# t = []\n",
    "# for i in range(1, 1000001):\n",
    "#     t.append(dx * norm.pdf(i * dx, mean, sd))\n",
    "\n",
    "# print(np.array(t).sum())"
   ]
  },
  {
   "attachments": {},
   "cell_type": "markdown",
   "metadata": {},
   "source": [
    "### Speed Routine"
   ]
  },
  {
   "cell_type": "code",
   "execution_count": 10,
   "metadata": {},
   "outputs": [
    {
     "name": "stdout",
     "output_type": "stream",
     "text": [
      "req len:  10\n",
      "final_routine:  [0, 0.0034919987618894353, 0.011849599289013215, 0.032266629178198176, 0.06665304403823472, 0.1031679407144674, 0.11929461998883766, 0.10298726149053508, 0.06642034018783576, 0.03209900483453355, 0.011769561516455104, 0]\n",
      "final_routine_length:  12\n",
      "final_routine_aggregate:  0.55\n"
     ]
    }
   ],
   "source": [
    "expedient_number_of_speed_request = 10\n",
    "true_number_of_speed_requests = expedient_number_of_speed_request + 2 # adding 2 because of appended and prepended 0 to the final routine\n",
    "\n",
    "ti = ts / true_number_of_speed_requests\n",
    "average_velocity = 0.55\n",
    "\n",
    "# request_number = 20\n",
    "requested_speeds = []\n",
    "for i in range(1, true_number_of_speed_requests - 1):\n",
    "    requested_speeds.append(ti * norm.pdf(i * ti, mean, sd) * average_velocity)\n",
    "print('req len: ', len(requested_speeds))\n",
    "individual_requested_speeds = np.array(requested_speeds)\n",
    "\n",
    "utilized_average_speed = individual_requested_speeds.sum()\n",
    "# print('utilized avg speed: ', utilized_average_speed)\n",
    "\n",
    "error = average_velocity - utilized_average_speed\n",
    "# print('error: ', error)\n",
    "\n",
    "individual_request_deficit = error / expedient_number_of_speed_request\n",
    "# print('individual req deficit: ', individual_request_deficit)\n",
    "\n",
    "corrected_requested_speeds = individual_requested_speeds + individual_request_deficit\n",
    "# print('corrected requested avg speed: ', corrected_requested_speeds.sum())\n",
    "\n",
    "final_speed_routine = list(corrected_requested_speeds)\n",
    "final_speed_routine.append(0)\n",
    "final_speed_routine.insert(0, 0)\n",
    "print('final_routine: ', final_speed_routine)\n",
    "print('final_routine_length: ', len(final_speed_routine))\n",
    "print('final_routine_aggregate: ', np.array(final_speed_routine).sum())\n",
    "\n",
    "# print(ti * norm.pdf(request_number * ti, mean, sd) * average_velocity)"
   ]
  },
  {
   "cell_type": "code",
   "execution_count": 11,
   "metadata": {},
   "outputs": [
    {
     "name": "stdout",
     "output_type": "stream",
     "text": [
      "3\n"
     ]
    }
   ],
   "source": [
    "class VelocityDirectionError(Exception('Velocity direction is incorrect')):\n",
    "    def __init__(self, *args: object) -> None:\n",
    "        super().__init__(*args)\n",
    "\n",
    "print(np.abs(-3))"
   ]
  }
 ],
 "metadata": {
  "kernelspec": {
   "display_name": "aiml",
   "language": "python",
   "name": "python3"
  },
  "language_info": {
   "codemirror_mode": {
    "name": "ipython",
    "version": 3
   },
   "file_extension": ".py",
   "mimetype": "text/x-python",
   "name": "python",
   "nbconvert_exporter": "python",
   "pygments_lexer": "ipython3",
   "version": "3.8.3"
  },
  "orig_nbformat": 4,
  "vscode": {
   "interpreter": {
    "hash": "3b29945ddc77c8333560715d3fc51205a298480c4897a6972ef08f51fe2b2c76"
   }
  }
 },
 "nbformat": 4,
 "nbformat_minor": 2
}
